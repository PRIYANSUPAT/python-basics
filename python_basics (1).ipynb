{
  "nbformat": 4,
  "nbformat_minor": 0,
  "metadata": {
    "colab": {
      "provenance": []
    },
    "kernelspec": {
      "name": "python3",
      "display_name": "Python 3"
    },
    "language_info": {
      "name": "python"
    }
  },
  "cells": [
    {
      "cell_type": "markdown",
      "source": [
        "1.What is Python, and why is it popular?\n",
        "ANS-Python is a popular language and easy language.It is popular because of it has simple syntax,which is easy to understand."
      ],
      "metadata": {
        "id": "okYyptLbl66z"
      }
    },
    {
      "cell_type": "markdown",
      "source": [
        "2.What is an interpreter in Python?\n",
        "ANS-An interpreter in Python is a program that executes Python code line by line. It reads and translates the Python code into machine language or bytecode, which the computer can understand and execute."
      ],
      "metadata": {
        "id": "WAKCoWBAogvP"
      }
    },
    {
      "cell_type": "markdown",
      "source": [
        "3.What are pre-defined keywords in Python?\n",
        "ANS-In Python, pre-defined keywords (also known as reserved words) are a set of words that have special meaning and are used by the Python interpreter to perform specific functions. These keywords cannot be used as identifiers (such as variable names, function names, or class names) because they are reserved for the language’s syntax and structure."
      ],
      "metadata": {
        "id": "HPuowBhup6pB"
      }
    },
    {
      "cell_type": "markdown",
      "source": [
        "4.Can keywords be used as variable names?\n",
        "ANS-No, keywords in Python cannot be used as variable names. Keywords are reserved words that have special meanings and predefined roles in the Python programming language"
      ],
      "metadata": {
        "id": "mBKMJafUrD85"
      }
    },
    {
      "cell_type": "markdown",
      "source": [
        "5.What is mutability in Python?\n",
        "ANS-Mutability in Python refers to the ability of an object to be changed after it is created."
      ],
      "metadata": {
        "id": "9WJ1xhtSrf5J"
      }
    },
    {
      "cell_type": "markdown",
      "source": [
        "6.Why are lists mutable, but tuples are immutable?\n",
        "ANS-Lists are mutable because they are designed to allow changes. You can modify, add, or remove elements after the list is created. This makes them flexible for situations where data needs to change.\n",
        "\n",
        "Tuples are immutable because they are designed to be fixed. Once created, you cannot change, add, or remove elements."
      ],
      "metadata": {
        "id": "14Q8N74or553"
      }
    },
    {
      "cell_type": "markdown",
      "source": [
        "7.What is the difference between “==” and “is” operators in Python?\n",
        "ANS-== checks if two objects have the same value.\n",
        "\n",
        "is checks if two objects are the same object in memory (i.e., they have the same identity)."
      ],
      "metadata": {
        "id": "T_0y8fk3sZKO"
      }
    },
    {
      "cell_type": "markdown",
      "source": [
        "8.What are logical operators in Python?\n",
        "ANS-In Python, logical operators are used to perform logical operations on Boolean values (True or False). They allow you to combine multiple conditions or expressions and return a single Boolean result."
      ],
      "metadata": {
        "id": "F-l3HasctYM7"
      }
    },
    {
      "cell_type": "markdown",
      "source": [
        "9.What is type casting in Python?\n",
        "ANS-Type casting in Python refers to the process of converting one data type into another. Python provides built-in functions to convert between different types, such as from int to float, from float to str, and so on."
      ],
      "metadata": {
        "id": "dMh-U5qgxxDk"
      }
    },
    {
      "cell_type": "markdown",
      "source": [
        "10.What is the difference between implicit and explicit type casting?\n",
        "ANS-Implicit Type Casting: Python automatically converts a smaller data type to a larger one (e.g., int to float) when needed.\n",
        "\n",
        "Example: a = 5; b = 2.0; result = a + b → Python converts a to float automatically.\n",
        "\n",
        "Explicit Type Casting: You manually convert a data type using functions like int(), float(), or str().\n",
        "\n",
        "Example: x = 3.14; y = int(x) → You explicitly convert x from float to int.\n",
        "\n",
        "\n",
        "\n"
      ],
      "metadata": {
        "id": "F-do1k4lyTMC"
      }
    },
    {
      "cell_type": "markdown",
      "source": [
        "11.What is the purpose of conditional statements in Python?\n",
        "ANS-Conditional statements in Python allow you to execute certain code based on whether a condition is true or false."
      ],
      "metadata": {
        "id": "MVM4B6SByzTs"
      }
    },
    {
      "cell_type": "markdown",
      "source": [
        "12.How does the elif statement work?\n",
        "ANS-The elif (short for \"else if\") statement in Python is used to check multiple conditions in sequence. It comes after an if statement and allows you to test additional conditions if the previous if (or elif) conditions were false."
      ],
      "metadata": {
        "id": "BPOR7bmNzX8o"
      }
    },
    {
      "cell_type": "markdown",
      "source": [
        "13.What is the difference between for and while loops?\n",
        "ANS-for = iterate over a sequence.\n",
        "\n",
        "while = repeat until a condition is False.\n",
        "\n",
        "\n",
        "\n"
      ],
      "metadata": {
        "id": "ZbWjAgYD4Nn_"
      }
    },
    {
      "cell_type": "markdown",
      "source": [
        "14.Describe a scenario where a while loop is more suitable than a for loop?\n",
        "ANS-A while loop is more suitable than a for loop in scenarios where you don't know the number of iterations in advance and need to repeat something until a condition is met."
      ],
      "metadata": {
        "id": "h4IW0k0t4tkv"
      }
    },
    {
      "cell_type": "markdown",
      "source": [
        "**practical question**"
      ],
      "metadata": {
        "id": "spSH4x_g5lP2"
      }
    },
    {
      "cell_type": "markdown",
      "source": [
        "1.Write a Python program to print \"Hello, World!\"?"
      ],
      "metadata": {
        "id": "YER8Fcnw5dgY"
      }
    },
    {
      "cell_type": "code",
      "source": [
        "print(\"Hello,world!\")"
      ],
      "metadata": {
        "colab": {
          "base_uri": "https://localhost:8080/"
        },
        "id": "Yxuo1cCL5BTA",
        "outputId": "a42f9ff9-9d3e-4e8b-a0b4-8a47fd4a79f3"
      },
      "execution_count": null,
      "outputs": [
        {
          "output_type": "stream",
          "name": "stdout",
          "text": [
            "Hello,world!\n"
          ]
        }
      ]
    },
    {
      "cell_type": "markdown",
      "source": [
        "2.Write a Python program that displays your name and age?"
      ],
      "metadata": {
        "id": "8AHbiI825vCM"
      }
    },
    {
      "cell_type": "code",
      "source": [
        "# Define name and age\n",
        "name = \"John Doe\"\n",
        "age = 25\n",
        "\n",
        "# Display name and age\n",
        "print(\"Name:\", name)\n",
        "print(\"Age:\", age)\n"
      ],
      "metadata": {
        "colab": {
          "base_uri": "https://localhost:8080/"
        },
        "id": "j9Y6oiDPnxRf",
        "outputId": "b34c7c33-a02f-4a52-95fd-3bc7df519ae3"
      },
      "execution_count": null,
      "outputs": [
        {
          "output_type": "stream",
          "name": "stdout",
          "text": [
            "Name: John Doe\n",
            "Age: 25\n"
          ]
        }
      ]
    },
    {
      "cell_type": "markdown",
      "source": [
        "3.Write code to print all the pre-defined keywords in Python using the keyword library?"
      ],
      "metadata": {
        "id": "CfGJc6im6I0C"
      }
    },
    {
      "cell_type": "code",
      "source": [
        "import keyword\n",
        "\n",
        "# Print all the pre-defined keywords in Python\n",
        "a=keyword.kwlist\n",
        "print(a)\n",
        "\n"
      ],
      "metadata": {
        "colab": {
          "base_uri": "https://localhost:8080/"
        },
        "id": "yCjB5L0a6SMN",
        "outputId": "af12078d-621b-4302-d247-8cbf49eaf0d0"
      },
      "execution_count": 6,
      "outputs": [
        {
          "output_type": "stream",
          "name": "stdout",
          "text": [
            "['False', 'None', 'True', 'and', 'as', 'assert', 'async', 'await', 'break', 'class', 'continue', 'def', 'del', 'elif', 'else', 'except', 'finally', 'for', 'from', 'global', 'if', 'import', 'in', 'is', 'lambda', 'nonlocal', 'not', 'or', 'pass', 'raise', 'return', 'try', 'while', 'with', 'yield']\n"
          ]
        }
      ]
    },
    {
      "cell_type": "markdown",
      "source": [
        "4.Write a program that checks if a given word is a Python keyword?\n"
      ],
      "metadata": {
        "id": "xgBmc2ph6gwx"
      }
    },
    {
      "cell_type": "code",
      "source": [
        "a=input(\"enter a word:\")\n",
        "import keyword\n",
        "if keyword.iskeyword(a):\n",
        "  print(\"it is a keyword\")\n",
        "else:\n",
        "  print(\"it is not a keyword\")\n"
      ],
      "metadata": {
        "colab": {
          "base_uri": "https://localhost:8080/"
        },
        "id": "dsocGBRjGbWV",
        "outputId": "295b4d35-c21a-4968-f10b-ef8a16eb427e"
      },
      "execution_count": 17,
      "outputs": [
        {
          "output_type": "stream",
          "name": "stdout",
          "text": [
            "enter a word:if\n",
            "it is a keyword\n"
          ]
        }
      ]
    },
    {
      "cell_type": "markdown",
      "source": [
        "5. Create a list and tuple in Python, and demonstrate how attempting to change an element works differently for each?\n"
      ],
      "metadata": {
        "id": "TWatSAyHJs3L"
      }
    },
    {
      "cell_type": "code",
      "source": [
        "list = [1,2,3,4]\n",
        "tuple = (1,2,3,4)\n",
        "list[0]=5\n",
        "print(list)\n",
        "tuple[0]=5 #it will throw an error.\n",
        "print(tuple)\n"
      ],
      "metadata": {
        "colab": {
          "base_uri": "https://localhost:8080/",
          "height": 211
        },
        "collapsed": true,
        "id": "-xi9CzmOJ1sg",
        "outputId": "818c381a-f914-4f72-e907-33ac089a93e7"
      },
      "execution_count": 20,
      "outputs": [
        {
          "output_type": "stream",
          "name": "stdout",
          "text": [
            "[5, 2, 3, 4]\n"
          ]
        },
        {
          "output_type": "error",
          "ename": "TypeError",
          "evalue": "'tuple' object does not support item assignment",
          "traceback": [
            "\u001b[0;31m---------------------------------------------------------------------------\u001b[0m",
            "\u001b[0;31mTypeError\u001b[0m                                 Traceback (most recent call last)",
            "\u001b[0;32m<ipython-input-20-c89c879ec61c>\u001b[0m in \u001b[0;36m<cell line: 0>\u001b[0;34m()\u001b[0m\n\u001b[1;32m      3\u001b[0m \u001b[0mlist\u001b[0m\u001b[0;34m[\u001b[0m\u001b[0;36m0\u001b[0m\u001b[0;34m]\u001b[0m\u001b[0;34m=\u001b[0m\u001b[0;36m5\u001b[0m\u001b[0;34m\u001b[0m\u001b[0;34m\u001b[0m\u001b[0m\n\u001b[1;32m      4\u001b[0m \u001b[0mprint\u001b[0m\u001b[0;34m(\u001b[0m\u001b[0mlist\u001b[0m\u001b[0;34m)\u001b[0m\u001b[0;34m\u001b[0m\u001b[0;34m\u001b[0m\u001b[0m\n\u001b[0;32m----> 5\u001b[0;31m \u001b[0mtuple\u001b[0m\u001b[0;34m[\u001b[0m\u001b[0;36m0\u001b[0m\u001b[0;34m]\u001b[0m\u001b[0;34m=\u001b[0m\u001b[0;36m5\u001b[0m \u001b[0;31m#it will throw an error.\u001b[0m\u001b[0;34m\u001b[0m\u001b[0;34m\u001b[0m\u001b[0m\n\u001b[0m\u001b[1;32m      6\u001b[0m \u001b[0mprint\u001b[0m\u001b[0;34m(\u001b[0m\u001b[0mtuple\u001b[0m\u001b[0;34m)\u001b[0m\u001b[0;34m\u001b[0m\u001b[0;34m\u001b[0m\u001b[0m\n",
            "\u001b[0;31mTypeError\u001b[0m: 'tuple' object does not support item assignment"
          ]
        }
      ]
    },
    {
      "cell_type": "markdown",
      "source": [
        "6.Write a function to demonstrate the behavior of mutable and immutable arguments?"
      ],
      "metadata": {
        "id": "MdM8nmlJKRt4"
      }
    },
    {
      "cell_type": "code",
      "source": [
        "list=[1,2,3,4]\n",
        "tuple=(1,2,3,4)\n",
        "list[0]=5\n",
        "print(list)\n",
        "tuple[0]=5\n",
        "print(tuple)"
      ],
      "metadata": {
        "colab": {
          "base_uri": "https://localhost:8080/",
          "height": 211
        },
        "collapsed": true,
        "id": "t31VygUIKZOK",
        "outputId": "c81cd374-4ddc-4a6c-e6d2-17ed8f8fa46b"
      },
      "execution_count": 25,
      "outputs": [
        {
          "output_type": "stream",
          "name": "stdout",
          "text": [
            "[5, 2, 3, 4]\n"
          ]
        },
        {
          "output_type": "error",
          "ename": "TypeError",
          "evalue": "'tuple' object does not support item assignment",
          "traceback": [
            "\u001b[0;31m---------------------------------------------------------------------------\u001b[0m",
            "\u001b[0;31mTypeError\u001b[0m                                 Traceback (most recent call last)",
            "\u001b[0;32m<ipython-input-25-5a00402ab3bc>\u001b[0m in \u001b[0;36m<cell line: 0>\u001b[0;34m()\u001b[0m\n\u001b[1;32m      3\u001b[0m \u001b[0mlist\u001b[0m\u001b[0;34m[\u001b[0m\u001b[0;36m0\u001b[0m\u001b[0;34m]\u001b[0m\u001b[0;34m=\u001b[0m\u001b[0;36m5\u001b[0m\u001b[0;34m\u001b[0m\u001b[0;34m\u001b[0m\u001b[0m\n\u001b[1;32m      4\u001b[0m \u001b[0mprint\u001b[0m\u001b[0;34m(\u001b[0m\u001b[0mlist\u001b[0m\u001b[0;34m)\u001b[0m\u001b[0;34m\u001b[0m\u001b[0;34m\u001b[0m\u001b[0m\n\u001b[0;32m----> 5\u001b[0;31m \u001b[0mtuple\u001b[0m\u001b[0;34m[\u001b[0m\u001b[0;36m0\u001b[0m\u001b[0;34m]\u001b[0m\u001b[0;34m=\u001b[0m\u001b[0;36m5\u001b[0m\u001b[0;34m\u001b[0m\u001b[0;34m\u001b[0m\u001b[0m\n\u001b[0m\u001b[1;32m      6\u001b[0m \u001b[0mprint\u001b[0m\u001b[0;34m(\u001b[0m\u001b[0mtuple\u001b[0m\u001b[0;34m)\u001b[0m\u001b[0;34m\u001b[0m\u001b[0;34m\u001b[0m\u001b[0m\n",
            "\u001b[0;31mTypeError\u001b[0m: 'tuple' object does not support item assignment"
          ]
        }
      ]
    },
    {
      "cell_type": "markdown",
      "source": [
        "7.Write a program that performs basic arithmetic operations on two user-input numbers"
      ],
      "metadata": {
        "id": "-81bh8UmLc1k"
      }
    },
    {
      "cell_type": "code",
      "source": [
        "a=int(input(\"enter a number:\"))\n",
        "b=int(input(\"enter a number:\"))\n",
        "print(\"addition:\",a+b)\n",
        "print(\"subtraction:\",a-b)\n",
        "print(\"multiplication:\",a*b)\n",
        "print(\"division:\",a/b)"
      ],
      "metadata": {
        "id": "-KgPuL-ML_Bk"
      },
      "execution_count": null,
      "outputs": []
    },
    {
      "cell_type": "markdown",
      "source": [
        "8.. Write a program to demonstrate the use of logical operators."
      ],
      "metadata": {
        "id": "m6BnlMLPMGFY"
      }
    },
    {
      "cell_type": "code",
      "source": [
        "a=80\n",
        "b=70\n",
        "print(a>b and b>a)"
      ],
      "metadata": {
        "colab": {
          "base_uri": "https://localhost:8080/"
        },
        "id": "9Tq1-D2cMMwR",
        "outputId": "d074b95b-49fe-4cdf-834f-d6219703d70b"
      },
      "execution_count": 26,
      "outputs": [
        {
          "output_type": "stream",
          "name": "stdout",
          "text": [
            "False\n"
          ]
        }
      ]
    },
    {
      "cell_type": "markdown",
      "source": [
        "9.Write a Python program to convert user input from string to integer, float, and boolean types?\n"
      ],
      "metadata": {
        "id": "-34r3MFqM6pq"
      }
    },
    {
      "cell_type": "code",
      "source": [
        "user = (input(\"enter a number:\"))\n",
        "print(type(user))\n",
        "print(type(float(user)))"
      ],
      "metadata": {
        "colab": {
          "base_uri": "https://localhost:8080/"
        },
        "id": "kvYHeBxJuCt8",
        "outputId": "df151aab-a4e3-4182-be8b-534bebb9ad2f"
      },
      "execution_count": 3,
      "outputs": [
        {
          "output_type": "stream",
          "name": "stdout",
          "text": [
            "enter a number:1\n",
            "<class 'str'>\n",
            "<class 'float'>\n"
          ]
        }
      ]
    },
    {
      "cell_type": "markdown",
      "source": [
        "10.Write code to demonstrate type casting with list elements?"
      ],
      "metadata": {
        "id": "DhEBfnNfxtac"
      }
    },
    {
      "cell_type": "code",
      "source": [
        "list = [1,2.0,\"hello\",True]\n",
        "print(list)\n",
        "print(type(list[0]))\n",
        "print(type(list[1]))\n",
        "print(type(list[2]))\n",
        "print(type(list[3]))"
      ],
      "metadata": {
        "colab": {
          "base_uri": "https://localhost:8080/"
        },
        "id": "LpuTQLumx_ei",
        "outputId": "71d8aea1-07b9-4fea-eaf7-ddc75f0eeef4"
      },
      "execution_count": 5,
      "outputs": [
        {
          "output_type": "stream",
          "name": "stdout",
          "text": [
            "[1, 2.0, 'hello', True]\n",
            "<class 'int'>\n",
            "<class 'float'>\n",
            "<class 'str'>\n",
            "<class 'bool'>\n"
          ]
        }
      ]
    },
    {
      "cell_type": "markdown",
      "source": [
        "11. Write a program that checks if a number is positive, negative, or zero?"
      ],
      "metadata": {
        "id": "TD-Ql93Mye0e"
      }
    },
    {
      "cell_type": "code",
      "source": [
        "user_input = int(input(\"enter a number:\"))\n",
        "if user_input>0:\n",
        "  print(\"positive\")\n",
        "elif user_input<0:\n",
        "  print(\"negative\")\n",
        "else:\n",
        "  print(\"zero\")"
      ],
      "metadata": {
        "colab": {
          "base_uri": "https://localhost:8080/"
        },
        "id": "Ad6wVGCaxzzb",
        "outputId": "08f551ec-8b66-469b-cfd4-76ad896a058b"
      },
      "execution_count": 8,
      "outputs": [
        {
          "output_type": "stream",
          "name": "stdout",
          "text": [
            "enter a number:1\n",
            "positive\n"
          ]
        }
      ]
    },
    {
      "cell_type": "markdown",
      "source": [
        "12. Write a for loop to print numbers from 1 to 10?\n"
      ],
      "metadata": {
        "id": "CzJrWyFI3Y0H"
      }
    },
    {
      "cell_type": "code",
      "source": [
        "for i in range(0,11):\n",
        "  print(i)"
      ],
      "metadata": {
        "colab": {
          "base_uri": "https://localhost:8080/"
        },
        "id": "zxVTc6CF3bSz",
        "outputId": "4e2d6c89-eafc-4b4b-9c43-97a9579dc9a0"
      },
      "execution_count": 16,
      "outputs": [
        {
          "output_type": "stream",
          "name": "stdout",
          "text": [
            "0\n",
            "1\n",
            "2\n",
            "3\n",
            "4\n",
            "5\n",
            "6\n",
            "7\n",
            "8\n",
            "9\n",
            "10\n"
          ]
        }
      ]
    },
    {
      "cell_type": "markdown",
      "source": [
        "13. Write a Python program to find the sum of all even numbers between 1 and 50?\n"
      ],
      "metadata": {
        "id": "X-RlHCow80JR"
      }
    },
    {
      "cell_type": "code",
      "source": [
        "# Initialize the sum variable\n",
        "sum_even = 0\n",
        "\n",
        "# Loop through numbers from 1 to 50\n",
        "for num in range(1, 51):\n",
        "    if num % 2 == 0:\n",
        "        sum_even += num\n",
        "\n",
        "# Print the result\n",
        "print(\"The sum of all even numbers between 1 and 50 is:\", sum_even)\n"
      ],
      "metadata": {
        "id": "FqofRFS985m8"
      },
      "execution_count": null,
      "outputs": []
    },
    {
      "cell_type": "markdown",
      "source": [
        "14. Write a program to reverse a string using a while loop?"
      ],
      "metadata": {
        "id": "u0RZHNHu9dkK"
      }
    },
    {
      "cell_type": "code",
      "source": [
        "string = input(\"Enter a string: \")\n",
        "reversed_string = \"\"\n",
        "index = len(string) - 1\n",
        "\n",
        "while index >= 0:\n",
        "    reversed_string += string[index]\n",
        "    index -= 1\n",
        "\n",
        "print(\"Reversed string:\", reversed_string)\n"
      ],
      "metadata": {
        "id": "NUVZFOWD-xjH"
      },
      "execution_count": null,
      "outputs": []
    },
    {
      "cell_type": "markdown",
      "source": [
        "15.Write a Python program to calculate the factorial of a number provided by the user using a while loop?"
      ],
      "metadata": {
        "id": "zaM2lT8bR83w"
      }
    },
    {
      "cell_type": "code",
      "source": [
        "# Get user input\n",
        "num = int(input(\"Enter a number: \"))\n",
        "\n",
        "# Initialize variables\n",
        "factorial = 1\n",
        "counter = 1\n",
        "\n",
        "# Use a while loop to calculate the factorial\n",
        "while counter <= num:\n",
        "    factorial *= counter\n",
        "    counter += 1\n",
        "\n",
        "# Print the result\n",
        "print(f\"The factorial of {num} is: {factorial}\")\n"
      ],
      "metadata": {
        "id": "bDrUMSjVR_Gl"
      },
      "execution_count": null,
      "outputs": []
    }
  ]
}